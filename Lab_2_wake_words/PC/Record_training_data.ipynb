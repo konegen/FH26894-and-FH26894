{
 "cells": [
  {
   "cell_type": "code",
   "execution_count": 27,
   "source": [
    "import pyaudio\r\n",
    "import wave\r\n",
    "import os\r\n",
    "from datetime import datetime\r\n",
    "\r\n",
    "chunk = 1024  # Record in chunks of 1024 samples\r\n",
    "sample_format = pyaudio.paInt16  # 16 bits per sample\r\n",
    "channels = 1\r\n",
    "fs = 16000  # Record at 16000 samples per second\r\n",
    "seconds = 1"
   ],
   "outputs": [],
   "metadata": {}
  },
  {
   "cell_type": "code",
   "execution_count": 2,
   "source": [
    "def record_audio_and_save(save_path, n_times=50):\r\n",
    "    \"\"\"\r\n",
    "    This function will run `n_times` and everytime you press Enter you have to speak the wake word\r\n",
    "\r\n",
    "    Args: \r\n",
    "        save_path:  Where to save the wav file which is generated in every iteration.\r\n",
    "        n_times:    The function will run n_times default is set to 50.\r\n",
    "    \"\"\"\r\n",
    "\r\n",
    "    paths = os.path.normpath(save_path)\r\n",
    "    paths = paths.split(os.sep)\r\n",
    "\r\n",
    "    for i in range(len(paths)):\r\n",
    "        if not os.path.isdir('/'.join(paths[:i+1])):\r\n",
    "            os.mkdir('/'.join(paths[:i+1]))\r\n",
    "\r\n",
    "    input(\"To start recording Wake Word press Enter: \")\r\n",
    "    for i in range(n_times):\r\n",
    "\r\n",
    "        p = pyaudio.PyAudio()  # Create an interface to PortAudio\r\n",
    "\r\n",
    "        print('Recording')\r\n",
    "\r\n",
    "        stream = p.open(format=sample_format,\r\n",
    "                        channels=channels,\r\n",
    "                        rate=fs,\r\n",
    "                        frames_per_buffer=chunk,\r\n",
    "                        input=True)\r\n",
    "\r\n",
    "        frames = []  # Initialize array to store frames\r\n",
    "\r\n",
    "        # Store data in chunks for 2 seconds\r\n",
    "        for j in range(0, int(fs / chunk * seconds)):\r\n",
    "            data = stream.read(chunk)\r\n",
    "            frames.append(data)\r\n",
    "\r\n",
    "        # Stop and close the stream \r\n",
    "        stream.stop_stream()\r\n",
    "        stream.close()\r\n",
    "        # Terminate the PortAudio interface\r\n",
    "        p.terminate()\r\n",
    "\r\n",
    "        print('Finished recording')\r\n",
    "\r\n",
    "        # Save the recorded data as a WAV file\r\n",
    "        wf = wave.open(save_path + \"/\" + datetime.now().strftime(\"%Y-%m-%d_%H-%M-%S\") + \".wav\", 'wb')\r\n",
    "        wf.setnchannels(channels)\r\n",
    "        wf.setsampwidth(p.get_sample_size(sample_format))\r\n",
    "        wf.setframerate(fs)\r\n",
    "        wf.writeframes(b''.join(frames))\r\n",
    "        wf.close()\r\n",
    "        if \"background\" in save_path:\r\n",
    "            print(f\"Currently on {i+1}/{n_times}\")\r\n",
    "        else:\r\n",
    "            input(f\"Press to start the next recording or press ctrl + C to stop the recording ({i + 1}/{n_times}): \")"
   ],
   "outputs": [],
   "metadata": {}
  },
  {
   "cell_type": "markdown",
   "source": [
    "Call the `record_and_save` function to record data. The folder name at the end of the save path specifies the class for which data will be recorded."
   ],
   "metadata": {}
  },
  {
   "cell_type": "code",
   "execution_count": 3,
   "source": [
    "record_audio_and_save(\"data/recorded_data/background\",n_times=50)"
   ],
   "outputs": [
    {
     "output_type": "error",
     "ename": "NameError",
     "evalue": "name 'pyaudio' is not defined",
     "traceback": [
      "\u001b[1;31m---------------------------------------------------------------------------\u001b[0m",
      "\u001b[1;31mNameError\u001b[0m                                 Traceback (most recent call last)",
      "\u001b[1;32m<ipython-input-3-e0f190afe15b>\u001b[0m in \u001b[0;36m<module>\u001b[1;34m\u001b[0m\n\u001b[1;32m----> 1\u001b[1;33m \u001b[0mrecord_audio_and_save\u001b[0m\u001b[1;33m(\u001b[0m\u001b[1;34m\"recorded_data/background\"\u001b[0m\u001b[1;33m,\u001b[0m\u001b[0mn_times\u001b[0m\u001b[1;33m=\u001b[0m\u001b[1;36m50\u001b[0m\u001b[1;33m)\u001b[0m\u001b[1;33m\u001b[0m\u001b[1;33m\u001b[0m\u001b[0m\n\u001b[0m",
      "\u001b[1;32m<ipython-input-2-bc6757ae47b2>\u001b[0m in \u001b[0;36mrecord_audio_and_save\u001b[1;34m(save_path, n_times)\u001b[0m\n\u001b[0;32m     22\u001b[0m     \u001b[1;32mfor\u001b[0m \u001b[0mi\u001b[0m \u001b[1;32min\u001b[0m \u001b[0mrange\u001b[0m\u001b[1;33m(\u001b[0m\u001b[0mn_times\u001b[0m\u001b[1;33m)\u001b[0m\u001b[1;33m:\u001b[0m\u001b[1;33m\u001b[0m\u001b[1;33m\u001b[0m\u001b[0m\n\u001b[0;32m     23\u001b[0m \u001b[1;33m\u001b[0m\u001b[0m\n\u001b[1;32m---> 24\u001b[1;33m         \u001b[0mp\u001b[0m \u001b[1;33m=\u001b[0m \u001b[0mpyaudio\u001b[0m\u001b[1;33m.\u001b[0m\u001b[0mPyAudio\u001b[0m\u001b[1;33m(\u001b[0m\u001b[1;33m)\u001b[0m  \u001b[1;31m# Create an interface to PortAudio\u001b[0m\u001b[1;33m\u001b[0m\u001b[1;33m\u001b[0m\u001b[0m\n\u001b[0m\u001b[0;32m     25\u001b[0m \u001b[1;33m\u001b[0m\u001b[0m\n\u001b[0;32m     26\u001b[0m         \u001b[0mprint\u001b[0m\u001b[1;33m(\u001b[0m\u001b[1;34m'Recording'\u001b[0m\u001b[1;33m)\u001b[0m\u001b[1;33m\u001b[0m\u001b[1;33m\u001b[0m\u001b[0m\n",
      "\u001b[1;31mNameError\u001b[0m: name 'pyaudio' is not defined"
     ]
    }
   ],
   "metadata": {}
  }
 ],
 "metadata": {
  "orig_nbformat": 4,
  "language_info": {
   "name": "python",
   "version": "3.7.10",
   "mimetype": "text/x-python",
   "codemirror_mode": {
    "name": "ipython",
    "version": 3
   },
   "pygments_lexer": "ipython3",
   "nbconvert_exporter": "python",
   "file_extension": ".py"
  },
  "kernelspec": {
   "name": "python3",
   "display_name": "Python 3.7.10 64-bit ('Wake_Word2': conda)"
  },
  "interpreter": {
   "hash": "7e56fe2947995b288b5851ed3b3c48e642bfab76d1a1d24db941cd6a22764db5"
  }
 },
 "nbformat": 4,
 "nbformat_minor": 2
}