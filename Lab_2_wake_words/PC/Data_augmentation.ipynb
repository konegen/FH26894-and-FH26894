{
 "cells": [
  {
   "cell_type": "code",
   "execution_count": 1,
   "source": [
    "import os\r\n",
    "import pyaudio\r\n",
    "import numpy as np\r\n",
    "import wave\r\n",
    "from datetime import datetime\r\n",
    "import librosa\r\n",
    "from scipy.io import wavfile"
   ],
   "outputs": [
    {
     "output_type": "stream",
     "name": "stderr",
     "text": [
      "C:\\Users\\dk100\\Anaconda3\\envs\\Wake_Word2\\lib\\site-packages\\numpy\\_distributor_init.py:32: UserWarning: loaded more than 1 DLL from .libs:\n",
      "C:\\Users\\dk100\\Anaconda3\\envs\\Wake_Word2\\lib\\site-packages\\numpy\\.libs\\libopenblas.PYQHXLVVQ7VESDPUVUADXEVJOBGHJPAY.gfortran-win_amd64.dll\n",
      "C:\\Users\\dk100\\Anaconda3\\envs\\Wake_Word2\\lib\\site-packages\\numpy\\.libs\\libopenblas.WCDJNK7YVMPZQ2ME2ZZHJJRJ3JIKNDB7.gfortran-win_amd64.dll\n",
      "  stacklevel=1)\n"
     ]
    }
   ],
   "metadata": {}
  },
  {
   "cell_type": "markdown",
   "source": [
    "To generate more data for training the neural network, data augmentation is applied. 4 different augmentation will applied to the data."
   ],
   "metadata": {}
  },
  {
   "cell_type": "markdown",
   "source": [
    "## Noise"
   ],
   "metadata": {}
  },
  {
   "cell_type": "code",
   "execution_count": 2,
   "source": [
    "def manipulate_noise(data, noise_factor):\r\n",
    "    \"\"\"\r\n",
    "    Adds additional meaningless data to the audiodata.\r\n",
    "\r\n",
    "    Args:\r\n",
    "        data:           Audio signal which should be augmented\r\n",
    "        noise_factor:   Factor to put noise to the data\r\n",
    "    \"\"\"\r\n",
    "    noise = np.random.randn(len(data))\r\n",
    "    augmented_data = data + noise_factor * noise\r\n",
    "    # Cast back to same data type\r\n",
    "    augmented_data = augmented_data.astype(type(data[0]))\r\n",
    "    return augmented_data"
   ],
   "outputs": [],
   "metadata": {}
  },
  {
   "cell_type": "markdown",
   "source": [
    "## Shift"
   ],
   "metadata": {}
  },
  {
   "cell_type": "code",
   "execution_count": 3,
   "source": [
    "def manipulate_shift(data, sampling_rate, shift_max=1, shift_direction='both'):\r\n",
    "    \"\"\"\r\n",
    "    Randomly shift audiodata to the left or right.\r\n",
    "\r\n",
    "    Args:\r\n",
    "        data:               Audio signal which should be augmented\r\n",
    "        samplig_rate:       Sampling rate\r\n",
    "        shift_max:          Maximum factor to shift the audio signal\r\n",
    "        shift_direction:    Direction to shift the audio signal\r\n",
    "    \"\"\"\r\n",
    "    shift = np.random.randint(sampling_rate * shift_max)\r\n",
    "    if shift_direction == 'right':\r\n",
    "        shift = -shift\r\n",
    "    elif shift_direction == 'both':\r\n",
    "        direction = np.random.randint(0, 2)\r\n",
    "        if direction == 1:\r\n",
    "            shift = -shift    \r\n",
    "            \r\n",
    "    augmented_data = np.roll(data, shift)\r\n",
    "    # Set to silence for heading/ tailing\r\n",
    "    if shift > 0:\r\n",
    "        augmented_data[:shift] = 0\r\n",
    "    else:\r\n",
    "        augmented_data[shift:] = 0\r\n",
    "    return augmented_data"
   ],
   "outputs": [],
   "metadata": {}
  },
  {
   "cell_type": "markdown",
   "source": [
    "## Pitch"
   ],
   "metadata": {}
  },
  {
   "cell_type": "code",
   "execution_count": 4,
   "source": [
    "def manipulate_pitch(data, sampling_rate, pitch_factor):\r\n",
    "    \"\"\"\r\n",
    "    Changes the pitch of the audio signal randomly.\r\n",
    "\r\n",
    "    Args:\r\n",
    "        data:           Audio signal which should be augmented\r\n",
    "        samplig_rate:   Sampling rate\r\n",
    "        pitch_factor:   Factor to change the pitch\r\n",
    "    \"\"\"\r\n",
    "    return librosa.effects.pitch_shift(data, sampling_rate, pitch_factor, bins_per_octave=32).astype('int16')"
   ],
   "outputs": [],
   "metadata": {}
  },
  {
   "cell_type": "markdown",
   "source": [
    "## Speed"
   ],
   "metadata": {}
  },
  {
   "cell_type": "code",
   "execution_count": 5,
   "source": [
    "def manipulate_speed(data, speed_factor):\r\n",
    "    \"\"\"\r\n",
    "    Saves the augmented data as .wav file.\r\n",
    "\r\n",
    "    Args:\r\n",
    "        data:           Audio signal which should be augmented\r\n",
    "        speed_factor:   Factor to Speed up or slow down the audio signal\r\n",
    "    \"\"\"\r\n",
    "    augmented_data_speed = librosa.effects.time_stretch(data, speed_factor).astype('int16')\r\n",
    "    zero_padding = np.zeros(16000 - augmented_data_speed.shape[0], dtype=np.int16)\r\n",
    "    return np.concatenate([augmented_data_speed, zero_padding], 0)"
   ],
   "outputs": [],
   "metadata": {}
  },
  {
   "cell_type": "code",
   "execution_count": 6,
   "source": [
    "def save_augmented_audio(save_path, label, augmented_data, sample_format = pyaudio.paInt16, channels = 1, fs = 16000):\r\n",
    "    \"\"\"\r\n",
    "    Saves the augmented data as .wav file.\r\n",
    "\r\n",
    "    Args:\r\n",
    "        save_path:      Path to store the augmented data\r\n",
    "        label:          Label of the data\r\n",
    "        augmented_data: Augmented timeseries\r\n",
    "        sample_format:  Format in which the audio signal is stored \r\n",
    "        channels:       Number of channels of the audio signal\r\n",
    "        fs:             Sampling rate\r\n",
    "    \"\"\"\r\n",
    "    p = pyaudio.PyAudio()  # Create an interface to PortAudio\r\n",
    "\r\n",
    "    if not os.path.isdir('/'.join([save_path, label])):\r\n",
    "        os.mkdir('/'.join([save_path, label]))\r\n",
    "\r\n",
    "    # Save the recorded data as a WAV file\r\n",
    "    wf = wave.open(save_path + \"/\" + label + \"/\" + (datetime.now().strftime(\"%Y-%m-%d_%H-%M-%S-%f\")[:-3]) + \".wav\", 'wb')\r\n",
    "    wf.setnchannels(channels)\r\n",
    "    wf.setsampwidth(p.get_sample_size(sample_format))\r\n",
    "    wf.setframerate(fs)\r\n",
    "    wf.writeframes(b''.join(augmented_data))\r\n",
    "    wf.close()"
   ],
   "outputs": [],
   "metadata": {}
  },
  {
   "cell_type": "code",
   "execution_count": null,
   "source": [],
   "outputs": [],
   "metadata": {}
  },
  {
   "cell_type": "code",
   "execution_count": 9,
   "source": [
    "def augment_data(save_path, data_to_augment, fs = 16000):\r\n",
    "    \"\"\"\r\n",
    "    Executes the data augmentation.\r\n",
    "\r\n",
    "    Args:\r\n",
    "        save_path:          Path to store the augmented data\r\n",
    "        data_to_augment:    Classes for which the data should be augmented \r\n",
    "        fs:                 Sampling rate\r\n",
    "    \"\"\"\r\n",
    "    if os.path.isdir('/'.join([\"data\", \"recorded_data\", data_to_augment])):\r\n",
    "        data_path = \"data/recorded_data/\" + data_to_augment\r\n",
    "        print(\"Audio from folder \", data_path,\" get augmented\")\r\n",
    "    else:\r\n",
    "        data_path = \"data/recorded_data\"\r\n",
    "        print(\"Audio from all subfolders of \", data_path,\" get augmented\")\r\n",
    "\r\n",
    "    if not os.path.isdir(save_path):\r\n",
    "        os.mkdir(save_path)\r\n",
    "    \r\n",
    "    for path, subdirs, files in os.walk(data_path):\r\n",
    "        for name in files:\r\n",
    "            print(\"Next data to augment: \",name)\r\n",
    "            _, data = wavfile.read(os.path.join(path, name))\r\n",
    "            data_float = data.astype(\"float\")\r\n",
    "\r\n",
    "            label = os.path.basename(os.path.normpath(path))\r\n",
    "\r\n",
    "            for i in range(0,50,5):\r\n",
    "                augmented_data_noise = manipulate_noise(data, i)\r\n",
    "                save_augmented_audio(save_path, label, augmented_data_noise)\r\n",
    "\r\n",
    "            for i in range(0,10):\r\n",
    "                # Shift is random, will be repeated 10 times\r\n",
    "                augmented_data_shift = manipulate_shift(data, fs, shift_max=0.1, shift_direction='both')\r\n",
    "                save_augmented_audio(save_path, label, augmented_data_shift)\r\n",
    "\r\n",
    "            for i in range(-4,6):\r\n",
    "                augmented_data_pitch = manipulate_pitch(data_float, fs, i)\r\n",
    "                save_augmented_audio(save_path, label, augmented_data_pitch)\r\n",
    "\r\n",
    "            for i in range(0,10):\r\n",
    "                augmented_data_speed = manipulate_speed(data_float, 1.0+(i/10.0))\r\n",
    "                save_augmented_audio(save_path, label, augmented_data_speed)"
   ],
   "outputs": [],
   "metadata": {}
  },
  {
   "cell_type": "markdown",
   "source": [
    "Call the `augment_data` function and apply the 4 different augmentations to your data."
   ],
   "metadata": {}
  },
  {
   "cell_type": "code",
   "execution_count": 10,
   "source": [
    "augment_data(\"data/augmented_data\", \"all\")"
   ],
   "outputs": [
    {
     "output_type": "stream",
     "name": "stdout",
     "text": [
      "Audio from all subfolders of  data/recorded_data  get augmented\n",
      "Next data to augment:  2021-09-13_15-08-00.wav\n",
      "Next data to augment:  2021-09-13_15-08-01.wav\n",
      "Next data to augment:  2021-09-13_15-08-02.wav\n",
      "Next data to augment:  2021-09-13_15-08-03.wav\n",
      "Next data to augment:  2021-09-13_15-08-04.wav\n",
      "Next data to augment:  2021-09-13_15-08-05.wav\n",
      "Next data to augment:  2021-09-13_15-08-06.wav\n",
      "Next data to augment:  2021-09-13_15-08-07.wav\n"
     ]
    },
    {
     "output_type": "error",
     "ename": "KeyboardInterrupt",
     "evalue": "",
     "traceback": [
      "\u001b[1;31m---------------------------------------------------------------------------\u001b[0m",
      "\u001b[1;31mKeyboardInterrupt\u001b[0m                         Traceback (most recent call last)",
      "\u001b[1;32m<ipython-input-10-e5a48d75a9dd>\u001b[0m in \u001b[0;36m<module>\u001b[1;34m\u001b[0m\n\u001b[1;32m----> 1\u001b[1;33m \u001b[0maugment_data\u001b[0m\u001b[1;33m(\u001b[0m\u001b[1;34m\"data/augmented_data\"\u001b[0m\u001b[1;33m,\u001b[0m \u001b[1;34m\"all\"\u001b[0m\u001b[1;33m)\u001b[0m\u001b[1;33m\u001b[0m\u001b[1;33m\u001b[0m\u001b[0m\n\u001b[0m",
      "\u001b[1;32m<ipython-input-9-01e65a61f242>\u001b[0m in \u001b[0;36maugment_data\u001b[1;34m(save_path, data_to_augment, sample_format, channels, fs)\u001b[0m\n\u001b[0;32m     38\u001b[0m \u001b[1;33m\u001b[0m\u001b[0m\n\u001b[0;32m     39\u001b[0m             \u001b[1;32mfor\u001b[0m \u001b[0mi\u001b[0m \u001b[1;32min\u001b[0m \u001b[0mrange\u001b[0m\u001b[1;33m(\u001b[0m\u001b[1;33m-\u001b[0m\u001b[1;36m4\u001b[0m\u001b[1;33m,\u001b[0m\u001b[1;36m6\u001b[0m\u001b[1;33m)\u001b[0m\u001b[1;33m:\u001b[0m\u001b[1;33m\u001b[0m\u001b[1;33m\u001b[0m\u001b[0m\n\u001b[1;32m---> 40\u001b[1;33m                 \u001b[0maugmented_data_pitch\u001b[0m \u001b[1;33m=\u001b[0m \u001b[0mmanipulate_pitch\u001b[0m\u001b[1;33m(\u001b[0m\u001b[0mdata_float\u001b[0m\u001b[1;33m,\u001b[0m \u001b[0mfs\u001b[0m\u001b[1;33m,\u001b[0m \u001b[0mi\u001b[0m\u001b[1;33m)\u001b[0m\u001b[1;33m\u001b[0m\u001b[1;33m\u001b[0m\u001b[0m\n\u001b[0m\u001b[0;32m     41\u001b[0m                 \u001b[0msave_augmented_audio\u001b[0m\u001b[1;33m(\u001b[0m\u001b[0msave_path\u001b[0m\u001b[1;33m,\u001b[0m \u001b[0mlabel\u001b[0m\u001b[1;33m,\u001b[0m \u001b[0maugmented_data_pitch\u001b[0m\u001b[1;33m)\u001b[0m\u001b[1;33m\u001b[0m\u001b[1;33m\u001b[0m\u001b[0m\n\u001b[0;32m     42\u001b[0m \u001b[1;33m\u001b[0m\u001b[0m\n",
      "\u001b[1;32m<ipython-input-4-1d3c365ad82f>\u001b[0m in \u001b[0;36mmanipulate_pitch\u001b[1;34m(data, sampling_rate, pitch_factor)\u001b[0m\n\u001b[0;32m      8\u001b[0m         \u001b[0mpitch_factor\u001b[0m\u001b[1;33m:\u001b[0m   \u001b[0mFactor\u001b[0m \u001b[0mto\u001b[0m \u001b[0mchange\u001b[0m \u001b[0mthe\u001b[0m \u001b[0mpitch\u001b[0m\u001b[1;33m\u001b[0m\u001b[1;33m\u001b[0m\u001b[0m\n\u001b[0;32m      9\u001b[0m     \"\"\"\n\u001b[1;32m---> 10\u001b[1;33m     \u001b[1;32mreturn\u001b[0m \u001b[0mlibrosa\u001b[0m\u001b[1;33m.\u001b[0m\u001b[0meffects\u001b[0m\u001b[1;33m.\u001b[0m\u001b[0mpitch_shift\u001b[0m\u001b[1;33m(\u001b[0m\u001b[0mdata\u001b[0m\u001b[1;33m,\u001b[0m \u001b[0msampling_rate\u001b[0m\u001b[1;33m,\u001b[0m \u001b[0mpitch_factor\u001b[0m\u001b[1;33m,\u001b[0m \u001b[0mbins_per_octave\u001b[0m\u001b[1;33m=\u001b[0m\u001b[1;36m32\u001b[0m\u001b[1;33m)\u001b[0m\u001b[1;33m.\u001b[0m\u001b[0mastype\u001b[0m\u001b[1;33m(\u001b[0m\u001b[1;34m'int16'\u001b[0m\u001b[1;33m)\u001b[0m\u001b[1;33m\u001b[0m\u001b[1;33m\u001b[0m\u001b[0m\n\u001b[0m",
      "\u001b[1;32m~\\Anaconda3\\envs\\Wake_Word2\\lib\\site-packages\\librosa\\effects.py\u001b[0m in \u001b[0;36mpitch_shift\u001b[1;34m(y, sr, n_steps, bins_per_octave, res_type, **kwargs)\u001b[0m\n\u001b[0;32m    321\u001b[0m     \u001b[1;31m# Stretch in time, then resample\u001b[0m\u001b[1;33m\u001b[0m\u001b[1;33m\u001b[0m\u001b[1;33m\u001b[0m\u001b[0m\n\u001b[0;32m    322\u001b[0m     y_shift = core.resample(\n\u001b[1;32m--> 323\u001b[1;33m         \u001b[0mtime_stretch\u001b[0m\u001b[1;33m(\u001b[0m\u001b[0my\u001b[0m\u001b[1;33m,\u001b[0m \u001b[0mrate\u001b[0m\u001b[1;33m,\u001b[0m \u001b[1;33m**\u001b[0m\u001b[0mkwargs\u001b[0m\u001b[1;33m)\u001b[0m\u001b[1;33m,\u001b[0m \u001b[0mfloat\u001b[0m\u001b[1;33m(\u001b[0m\u001b[0msr\u001b[0m\u001b[1;33m)\u001b[0m \u001b[1;33m/\u001b[0m \u001b[0mrate\u001b[0m\u001b[1;33m,\u001b[0m \u001b[0msr\u001b[0m\u001b[1;33m,\u001b[0m \u001b[0mres_type\u001b[0m\u001b[1;33m=\u001b[0m\u001b[0mres_type\u001b[0m\u001b[1;33m\u001b[0m\u001b[1;33m\u001b[0m\u001b[0m\n\u001b[0m\u001b[0;32m    324\u001b[0m     )\n\u001b[0;32m    325\u001b[0m \u001b[1;33m\u001b[0m\u001b[0m\n",
      "\u001b[1;32m~\\Anaconda3\\envs\\Wake_Word2\\lib\\site-packages\\librosa\\effects.py\u001b[0m in \u001b[0;36mtime_stretch\u001b[1;34m(y, rate, **kwargs)\u001b[0m\n\u001b[0;32m    247\u001b[0m \u001b[1;33m\u001b[0m\u001b[0m\n\u001b[0;32m    248\u001b[0m     \u001b[1;31m# Stretch by phase vocoding\u001b[0m\u001b[1;33m\u001b[0m\u001b[1;33m\u001b[0m\u001b[1;33m\u001b[0m\u001b[0m\n\u001b[1;32m--> 249\u001b[1;33m     \u001b[0mstft_stretch\u001b[0m \u001b[1;33m=\u001b[0m \u001b[0mcore\u001b[0m\u001b[1;33m.\u001b[0m\u001b[0mphase_vocoder\u001b[0m\u001b[1;33m(\u001b[0m\u001b[0mstft\u001b[0m\u001b[1;33m,\u001b[0m \u001b[0mrate\u001b[0m\u001b[1;33m)\u001b[0m\u001b[1;33m\u001b[0m\u001b[1;33m\u001b[0m\u001b[0m\n\u001b[0m\u001b[0;32m    250\u001b[0m \u001b[1;33m\u001b[0m\u001b[0m\n\u001b[0;32m    251\u001b[0m     \u001b[1;31m# Predict the length of y_stretch\u001b[0m\u001b[1;33m\u001b[0m\u001b[1;33m\u001b[0m\u001b[1;33m\u001b[0m\u001b[0m\n",
      "\u001b[1;32m~\\Anaconda3\\envs\\Wake_Word2\\lib\\site-packages\\librosa\\core\\spectrum.py\u001b[0m in \u001b[0;36mphase_vocoder\u001b[1;34m(D, rate, hop_length)\u001b[0m\n\u001b[0;32m   1247\u001b[0m \u001b[1;33m\u001b[0m\u001b[0m\n\u001b[0;32m   1248\u001b[0m         \u001b[1;31m# Compute phase advance\u001b[0m\u001b[1;33m\u001b[0m\u001b[1;33m\u001b[0m\u001b[1;33m\u001b[0m\u001b[0m\n\u001b[1;32m-> 1249\u001b[1;33m         \u001b[0mdphase\u001b[0m \u001b[1;33m=\u001b[0m \u001b[0mnp\u001b[0m\u001b[1;33m.\u001b[0m\u001b[0mangle\u001b[0m\u001b[1;33m(\u001b[0m\u001b[0mcolumns\u001b[0m\u001b[1;33m[\u001b[0m\u001b[1;33m:\u001b[0m\u001b[1;33m,\u001b[0m \u001b[1;36m1\u001b[0m\u001b[1;33m]\u001b[0m\u001b[1;33m)\u001b[0m \u001b[1;33m-\u001b[0m \u001b[0mnp\u001b[0m\u001b[1;33m.\u001b[0m\u001b[0mangle\u001b[0m\u001b[1;33m(\u001b[0m\u001b[0mcolumns\u001b[0m\u001b[1;33m[\u001b[0m\u001b[1;33m:\u001b[0m\u001b[1;33m,\u001b[0m \u001b[1;36m0\u001b[0m\u001b[1;33m]\u001b[0m\u001b[1;33m)\u001b[0m \u001b[1;33m-\u001b[0m \u001b[0mphi_advance\u001b[0m\u001b[1;33m\u001b[0m\u001b[1;33m\u001b[0m\u001b[0m\n\u001b[0m\u001b[0;32m   1250\u001b[0m \u001b[1;33m\u001b[0m\u001b[0m\n\u001b[0;32m   1251\u001b[0m         \u001b[1;31m# Wrap to -pi:pi range\u001b[0m\u001b[1;33m\u001b[0m\u001b[1;33m\u001b[0m\u001b[1;33m\u001b[0m\u001b[0m\n",
      "\u001b[1;32m<__array_function__ internals>\u001b[0m in \u001b[0;36mangle\u001b[1;34m(*args, **kwargs)\u001b[0m\n",
      "\u001b[1;32m~\\Anaconda3\\envs\\Wake_Word2\\lib\\site-packages\\numpy\\lib\\function_base.py\u001b[0m in \u001b[0;36mangle\u001b[1;34m(z, deg)\u001b[0m\n\u001b[0;32m   1475\u001b[0m         \u001b[0mzreal\u001b[0m \u001b[1;33m=\u001b[0m \u001b[0mz\u001b[0m\u001b[1;33m\u001b[0m\u001b[1;33m\u001b[0m\u001b[0m\n\u001b[0;32m   1476\u001b[0m \u001b[1;33m\u001b[0m\u001b[0m\n\u001b[1;32m-> 1477\u001b[1;33m     \u001b[0ma\u001b[0m \u001b[1;33m=\u001b[0m \u001b[0marctan2\u001b[0m\u001b[1;33m(\u001b[0m\u001b[0mzimag\u001b[0m\u001b[1;33m,\u001b[0m \u001b[0mzreal\u001b[0m\u001b[1;33m)\u001b[0m\u001b[1;33m\u001b[0m\u001b[1;33m\u001b[0m\u001b[0m\n\u001b[0m\u001b[0;32m   1478\u001b[0m     \u001b[1;32mif\u001b[0m \u001b[0mdeg\u001b[0m\u001b[1;33m:\u001b[0m\u001b[1;33m\u001b[0m\u001b[1;33m\u001b[0m\u001b[0m\n\u001b[0;32m   1479\u001b[0m         \u001b[0ma\u001b[0m \u001b[1;33m*=\u001b[0m \u001b[1;36m180\u001b[0m\u001b[1;33m/\u001b[0m\u001b[0mpi\u001b[0m\u001b[1;33m\u001b[0m\u001b[1;33m\u001b[0m\u001b[0m\n",
      "\u001b[1;31mKeyboardInterrupt\u001b[0m: "
     ]
    }
   ],
   "metadata": {}
  }
 ],
 "metadata": {
  "orig_nbformat": 4,
  "language_info": {
   "name": "python",
   "version": "3.7.10",
   "mimetype": "text/x-python",
   "codemirror_mode": {
    "name": "ipython",
    "version": 3
   },
   "pygments_lexer": "ipython3",
   "nbconvert_exporter": "python",
   "file_extension": ".py"
  },
  "kernelspec": {
   "name": "python3",
   "display_name": "Python 3.7.10 64-bit ('Wake_Word2': conda)"
  },
  "interpreter": {
   "hash": "7e56fe2947995b288b5851ed3b3c48e642bfab76d1a1d24db941cd6a22764db5"
  }
 },
 "nbformat": 4,
 "nbformat_minor": 2
}