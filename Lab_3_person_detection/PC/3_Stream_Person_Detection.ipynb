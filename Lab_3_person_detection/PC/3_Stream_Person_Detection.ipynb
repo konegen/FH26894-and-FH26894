{
 "cells": [
  {
   "cell_type": "code",
   "execution_count": 1,
   "metadata": {},
   "outputs": [],
   "source": [
    "import numpy as np\n",
    "import cv2\n",
    "import tensorflow as tf"
   ]
  },
  {
   "cell_type": "markdown",
   "metadata": {},
   "source": [
    "Define the model path and load the model."
   ]
  },
  {
   "cell_type": "code",
   "execution_count": 2,
   "metadata": {},
   "outputs": [],
   "source": [
    "model_path = \"model/person_detection_MobileNetV3Small.h5\"\n",
    "\n",
    "model = tf.keras.models.load_model(model_path)"
   ]
  },
  {
   "cell_type": "markdown",
   "metadata": {},
   "source": [
    "Start the video stream from your camera"
   ]
  },
  {
   "cell_type": "code",
   "execution_count": 3,
   "metadata": {},
   "outputs": [],
   "source": [
    "cap = cv2.VideoCapture(0)"
   ]
  },
  {
   "cell_type": "markdown",
   "metadata": {},
   "source": [
    "A window with the camera streams opens. The images of the camera get predicted from the model. Additionally the window shows if a person is detected or not."
   ]
  },
  {
   "cell_type": "code",
   "execution_count": 4,
   "metadata": {},
   "outputs": [
    {
     "name": "stdout",
     "output_type": "stream",
     "text": []
    }
   ],
   "source": [
    "while True:\n",
    "    # Read frame from camera\n",
    "    ret, image = cap.read()\n",
    "\n",
    "    # Resize image to correct size\n",
    "    img = cv2.resize(image, (224,224))\n",
    "    # Expand dimensions since the model expects images to have shape: [1, None, None, 3]\n",
    "    img = np.expand_dims(img, axis=0)\n",
    "    \n",
    "    # For MobileNet and DenseNet you don't need to normalize the data \n",
    "    # Make the prediction\n",
    "    prediction = model.predict(img)[0][0]\n",
    "    print(\"Prediction score:\", prediction, end=\"\\r\")\n",
    "    # Define the text to display\n",
    "    if prediction > 0.5:\n",
    "        image = cv2.putText(image, text=\"Person detected\", org=(10,40), fontFace=cv2.FONT_HERSHEY_SIMPLEX , fontScale=1, color=(0, 0, 255, 255), thickness=3)\n",
    "    else:\n",
    "        image = cv2.putText(image, text=\"No Person detected\", org=(10,40), fontFace=cv2.FONT_HERSHEY_SIMPLEX , fontScale=1, color=(0, 0, 255, 255), thickness=3)\n",
    "    \n",
    "    # Display output\n",
    "    cv2.imshow(\"Person detection\", image)\n",
    "\n",
    "    # To close the window you have to press \"q\"\n",
    "    if cv2.waitKey(25) & 0xFF == ord(\"q\"):\n",
    "        break\n",
    "\n",
    "cv2.destroyAllWindows()\n",
    "cap.release()"
   ]
  }
 ],
 "metadata": {
  "interpreter": {
   "hash": "7e56fe2947995b288b5851ed3b3c48e642bfab76d1a1d24db941cd6a22764db5"
  },
  "kernelspec": {
   "display_name": "Python 3.7.10 64-bit ('Wake_Word2': conda)",
   "language": "python",
   "name": "python3"
  },
  "language_info": {
   "codemirror_mode": {
    "name": "ipython",
    "version": 3
   },
   "file_extension": ".py",
   "mimetype": "text/x-python",
   "name": "python",
   "nbconvert_exporter": "python",
   "pygments_lexer": "ipython3",
   "version": "3.8.12"
  },
  "orig_nbformat": 4
 },
 "nbformat": 4,
 "nbformat_minor": 2
}
